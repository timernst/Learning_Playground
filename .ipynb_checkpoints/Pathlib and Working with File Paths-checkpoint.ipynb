{
 "cells": [
  {
   "cell_type": "markdown",
   "metadata": {},
   "source": [
    "# Pathlib and Working with File Paths\n",
    "\n",
    "\n",
    "---\n",
    "\n",
    "**Background:** \n",
    "\n",
    "The 'os' library gives us the ability to manipute the string that forms the path in a few different ways, but 'pathlib' (also now part of the standard library) is a bit more intelligent in its understanding the path as an object. "
   ]
  },
  {
   "cell_type": "code",
   "execution_count": 2,
   "metadata": {},
   "outputs": [],
   "source": [
    "import pathlib\n",
    "import os"
   ]
  },
  {
   "cell_type": "markdown",
   "metadata": {},
   "source": [
    "Just to reiterate 'os' returns a string but pathlib returns an object."
   ]
  },
  {
   "cell_type": "code",
   "execution_count": 3,
   "metadata": {},
   "outputs": [
    {
     "data": {
      "text/plain": [
       "'C:\\\\Users\\\\ternst\\\\OneDrive - GERSON LEHRMAN GROUP INC\\\\Documents\\\\Python Scripts\\\\Learning_Playground'"
      ]
     },
     "execution_count": 3,
     "metadata": {},
     "output_type": "execute_result"
    }
   ],
   "source": [
    "os.getcwd()"
   ]
  },
  {
   "cell_type": "code",
   "execution_count": 4,
   "metadata": {},
   "outputs": [
    {
     "data": {
      "text/plain": [
       "WindowsPath('C:/Users/ternst/OneDrive - GERSON LEHRMAN GROUP INC/Documents/Python Scripts/Learning_Playground')"
      ]
     },
     "execution_count": 4,
     "metadata": {},
     "output_type": "execute_result"
    }
   ],
   "source": [
    "pathlib.Path.cwd()"
   ]
  },
  {
   "cell_type": "markdown",
   "metadata": {},
   "source": [
    "### Creating a File Path\n",
    "There is more than one way to create a path."
   ]
  },
  {
   "cell_type": "code",
   "execution_count": 5,
   "metadata": {},
   "outputs": [
    {
     "name": "stdout",
     "output_type": "stream",
     "text": [
      "Home:  C:\\Users\\ternst\n",
      "CWD:  C:\\Users\\ternst\\OneDrive - GERSON LEHRMAN GROUP INC\\Documents\\Python Scripts\\Learning_Playground\n"
     ]
    }
   ],
   "source": [
    "print('Home: ', pathlib.Path.home())\n",
    "print('CWD: ' , pathlib.Path.cwd())"
   ]
  },
  {
   "cell_type": "code",
   "execution_count": 6,
   "metadata": {},
   "outputs": [],
   "source": [
    "# There are two ways to append to a path\n",
    "create_method1 = pathlib.Path.home() / 'OneDrive - GERSON LEHRMAN GROUP INC' / 'Python Scripts' / 'Learning_Playground' / 'test1.txt'\n",
    "\n",
    "create_method2 = pathlib.Path.home().joinpath('OneDrive - GERSON LEHRMAN GROUP INC', 'Python Scripts', 'Learning_Playground', 'test2.txt')"
   ]
  },
  {
   "cell_type": "markdown",
   "metadata": {},
   "source": [
    "In most cases you can pass in the path object itself but depending on the library it may be necessary to convert the path object to a string explicitly. Pathlib will intuit the format differences depending on the operating system."
   ]
  },
  {
   "cell_type": "code",
   "execution_count": 7,
   "metadata": {},
   "outputs": [
    {
     "data": {
      "text/plain": [
       "'C:\\\\Users\\\\ternst\\\\OneDrive - GERSON LEHRMAN GROUP INC\\\\Python Scripts\\\\Learning_Playground\\\\test1.txt'"
      ]
     },
     "execution_count": 7,
     "metadata": {},
     "output_type": "execute_result"
    }
   ],
   "source": [
    "str(create_method1)"
   ]
  },
  {
   "cell_type": "markdown",
   "metadata": {},
   "source": [
    "### Navigating within the Path\n",
    "\n",
    "\n",
    "* name: the file name without any directory  \n",
    "* parent: the directory containing the file, or the parent directory if path is a directory  \n",
    "* stem: the file name without the suffix  \n",
    "* suffix: the file extension  \n",
    "* anchor: the part of the path before the directories  "
   ]
  },
  {
   "cell_type": "code",
   "execution_count": 8,
   "metadata": {},
   "outputs": [
    {
     "name": "stdout",
     "output_type": "stream",
     "text": [
      "Name:  test1.txt\n"
     ]
    }
   ],
   "source": [
    "print('Name: ', create_method1.name)"
   ]
  },
  {
   "cell_type": "code",
   "execution_count": 19,
   "metadata": {},
   "outputs": [
    {
     "name": "stdout",
     "output_type": "stream",
     "text": [
      "Stem:  test1\n"
     ]
    }
   ],
   "source": [
    "print('Stem: ', create_method1.stem)"
   ]
  },
  {
   "cell_type": "code",
   "execution_count": 20,
   "metadata": {},
   "outputs": [
    {
     "name": "stdout",
     "output_type": "stream",
     "text": [
      "Suffix:  .txt\n"
     ]
    }
   ],
   "source": [
    "print('Suffix: ', create_method1.suffix)"
   ]
  },
  {
   "cell_type": "code",
   "execution_count": 9,
   "metadata": {},
   "outputs": [
    {
     "name": "stdout",
     "output_type": "stream",
     "text": [
      "Parent:  C:\\Users\\ternst\\OneDrive - GERSON LEHRMAN GROUP INC\\Python Scripts\\Learning_Playground\n"
     ]
    }
   ],
   "source": [
    "print('Parent: ', create_method1.parent)"
   ]
  },
  {
   "cell_type": "code",
   "execution_count": 23,
   "metadata": {},
   "outputs": [
    {
     "name": "stdout",
     "output_type": "stream",
     "text": [
      "Parent:  C:\\Users\\ternst\\OneDrive - GERSON LEHRMAN GROUP INC\\Python Scripts\n"
     ]
    }
   ],
   "source": [
    "# The parent method can be chained\n",
    "print('Parent: ', create_method1.parent.parent)"
   ]
  },
  {
   "cell_type": "code",
   "execution_count": 11,
   "metadata": {},
   "outputs": [
    {
     "name": "stdout",
     "output_type": "stream",
     "text": [
      "Drive:  C:\n"
     ]
    }
   ],
   "source": [
    "print('Drive: ', create_method1.drive)"
   ]
  },
  {
   "cell_type": "code",
   "execution_count": 12,
   "metadata": {},
   "outputs": [
    {
     "name": "stdout",
     "output_type": "stream",
     "text": [
      "Anchor:  C:\\\n"
     ]
    }
   ],
   "source": [
    "print('Anchor: ', create_method1.anchor)"
   ]
  },
  {
   "cell_type": "code",
   "execution_count": 14,
   "metadata": {},
   "outputs": [
    {
     "name": "stdout",
     "output_type": "stream",
     "text": [
      "Root:  \\\n"
     ]
    }
   ],
   "source": [
    "print('Root: ', create_method1.root)"
   ]
  },
  {
   "cell_type": "markdown",
   "metadata": {},
   "source": [
    "#### Using 'partents' not 'parent'\n"
   ]
  },
  {
   "cell_type": "code",
   "execution_count": 15,
   "metadata": {},
   "outputs": [
    {
     "name": "stdout",
     "output_type": "stream",
     "text": [
      "<WindowsPath.parents>\n",
      "C:\\Users\\ternst\\OneDrive - GERSON LEHRMAN GROUP INC\\Python Scripts\\Learning_Playground\n"
     ]
    }
   ],
   "source": [
    "p = create_method1.parents\n",
    "\n",
    "print(p)\n",
    "print(p[0])"
   ]
  },
  {
   "cell_type": "code",
   "execution_count": 16,
   "metadata": {},
   "outputs": [
    {
     "name": "stdout",
     "output_type": "stream",
     "text": [
      "('C:\\\\', 'Users', 'ternst', 'OneDrive - GERSON LEHRMAN GROUP INC', 'Python Scripts', 'Learning_Playground', 'test1.txt')\n",
      "OneDrive - GERSON LEHRMAN GROUP INC\n"
     ]
    }
   ],
   "source": [
    "# Use 'parts' to grab the seperate sections of the heirarchy\n",
    "parts = create_method1.parts\n",
    "\n",
    "print(parts)\n",
    "print(parts[3])"
   ]
  },
  {
   "cell_type": "markdown",
   "metadata": {},
   "source": [
    "### Bonus Material"
   ]
  },
  {
   "cell_type": "markdown",
   "metadata": {},
   "source": [
    "##### 1. Open \n",
    "\n",
    "You can use Path.open() directly rather than open(path)\n",
    "\n",
    "\n",
    "These two are equivalent\n",
    "\n",
    "```python\n",
    "with open(create_method1, mode='rw') as fid:\n",
    "\n",
    "\n",
    "path.open(mode='r') as fid:\n",
    "```"
   ]
  },
  {
   "cell_type": "markdown",
   "metadata": {},
   "source": [
    "##### 2. Check if the file exists"
   ]
  },
  {
   "cell_type": "code",
   "execution_count": 17,
   "metadata": {},
   "outputs": [
    {
     "data": {
      "text/plain": [
       "False"
      ]
     },
     "execution_count": 17,
     "metadata": {},
     "output_type": "execute_result"
    }
   ],
   "source": [
    "pathlib.Path.exists(create_method1)"
   ]
  }
 ],
 "metadata": {
  "kernelspec": {
   "display_name": "Python 3",
   "language": "python",
   "name": "python3"
  },
  "language_info": {
   "codemirror_mode": {
    "name": "ipython",
    "version": 3
   },
   "file_extension": ".py",
   "mimetype": "text/x-python",
   "name": "python",
   "nbconvert_exporter": "python",
   "pygments_lexer": "ipython3",
   "version": "3.6.5"
  }
 },
 "nbformat": 4,
 "nbformat_minor": 2
}
