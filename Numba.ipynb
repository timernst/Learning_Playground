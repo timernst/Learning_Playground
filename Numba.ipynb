{
 "cells": [
  {
   "cell_type": "markdown",
   "metadata": {},
   "source": [
    "### Numba\n",
    "\n",
    "---\n",
    "Numba is a just-in-time complier to run loops and functions faster. It uses LLVM under the hood but extends it in a number of ways. \n",
    "\n",
    "\n",
    "\n",
    "Numba is easy to use by simply adding a decorator to your function. \n",
    "\n",
    "\n",
    "http://numba.pydata.org/numba-doc/latest/reference/jit-compilation.html#numba.jit"
   ]
  },
  {
   "cell_type": "code",
   "execution_count": null,
   "metadata": {},
   "outputs": [],
   "source": [
    "from numba import jit, njit\n",
    "import numpy as np"
   ]
  },
  {
   "cell_type": "code",
   "execution_count": 4,
   "metadata": {},
   "outputs": [],
   "source": [
    "@njit\n",
    "def ident_np(x):\n",
    "    return np.cos(x) ** 2 + np.sin(x) ** 2\n",
    "\n",
    "@njit\n",
    "def ident_loops(x):\n",
    "    r = np.empty_like(x)\n",
    "    n = len(x)\n",
    "    for i in range(n):\n",
    "        r[i] = np.cos(x[i]) ** 2 + np.sin(x[i]) ** 2\n",
    "    return r"
   ]
  },
  {
   "cell_type": "markdown",
   "metadata": {},
   "source": [
    "```python\n",
    "@njit```\n",
    "\n",
    "OR\n",
    "\n",
    "```python \n",
    "@jit(nopython=True)```"
   ]
  },
  {
   "cell_type": "markdown",
   "metadata": {},
   "source": [
    "#### Parallel\n",
    "\n",
    "Only used if the order returned doesn't matter.\n",
    "\n",
    "\n",
    "One can use Numba’s prange instead of range to specify that a loop can be parallelized. The user is required to make sure that the loop does not have cross iteration dependencies except for supported reductions."
   ]
  },
  {
   "cell_type": "code",
   "execution_count": 8,
   "metadata": {},
   "outputs": [],
   "source": [
    "from numba import njit, prange\n",
    "\n",
    "@njit(parallel=True)\n",
    "def prange_test(A):\n",
    "    s = 0\n",
    "    # Without \"parallel=True\" in the jit-decorator\n",
    "    # the prange statement is equivalent to range\n",
    "    for i in prange(A.shape[0]):\n",
    "        s += A[i]\n",
    "    return(s)"
   ]
  },
  {
   "cell_type": "code",
   "execution_count": 47,
   "metadata": {},
   "outputs": [
    {
     "data": {
      "text/plain": [
       "6999941923"
      ]
     },
     "execution_count": 47,
     "metadata": {},
     "output_type": "execute_result"
    }
   ],
   "source": [
    "prange_test(np.random.randint(5, 10, 1000000000))"
   ]
  },
  {
   "cell_type": "markdown",
   "metadata": {},
   "source": [
    "###### Diagnostics\n",
    "\n",
    "\n",
    "http://numba.pydata.org/numba-doc/latest/user/parallel.html#diagnostics"
   ]
  },
  {
   "cell_type": "code",
   "execution_count": 48,
   "metadata": {},
   "outputs": [
    {
     "name": "stdout",
     "output_type": "stream",
     "text": [
      " \n",
      "================================================================================\n",
      " Parallel Accelerator Optimizing:  Function prange_test, <ipython-\n",
      "input-8-e782ffba93bd> (3)  \n",
      "================================================================================\n",
      "\n",
      "\n",
      "Parallel loop listing for  Function prange_test, <ipython-input-8-e782ffba93bd> (3) \n",
      "------------------------------------------------------|loop #ID\n",
      "@njit(parallel=True)                                  | \n",
      "def prange_test(A):                                   | \n",
      "    s = 0                                             | \n",
      "    # Without \"parallel=True\" in the jit-decorator    | \n",
      "    # the prange statement is equivalent to range     | \n",
      "    for i in prange(A.shape[0]):----------------------| #0\n",
      "        s += A[i]                                     | \n",
      "    return(s)                                         | \n",
      "--------------------------------- Fusing loops ---------------------------------\n",
      "Attempting fusion of parallel loops (combines loops with similar properties)...\n",
      "----------------------------- Before Optimisation ------------------------------\n",
      "--------------------------------------------------------------------------------\n",
      "------------------------------ After Optimisation ------------------------------\n",
      "Parallel structure is already optimal.\n",
      "--------------------------------------------------------------------------------\n",
      "--------------------------------------------------------------------------------\n",
      " \n",
      "---------------------------Loop invariant code motion---------------------------\n",
      "Allocation hoisting:\n",
      "No allocation hoisting found\n",
      "\n",
      "Instruction hoisting:\n",
      "loop #0:\n",
      "  Failed to hoist the following:\n",
      "    dependency: $30binary_subscr.5 = getitem(value=A, index=$parfor__index_3.70)\n",
      "    dependency: $s.2.25 = inplace_binop(fn=<built-in function iadd>, immutable_fn=<built-in function add>, lhs=s_2.2, rhs=$30binary_subscr.5, static_lhs=Undefined, static_rhs=Undefined)\n",
      "    dependency: s_2 = $s.2.25\n",
      "--------------------------------------------------------------------------------\n"
     ]
    }
   ],
   "source": [
    "prange_test.parallel_diagnostics(level=4) # 1 is least verbose 4 is most verbose"
   ]
  },
  {
   "cell_type": "markdown",
   "metadata": {},
   "source": [
    "#### Other Things It Does\n",
    "\n",
    "Numba can also vectorize operations in different ways. This, however, requires explicit changes to the code and so I'm not going into detailon it here. "
   ]
  }
 ],
 "metadata": {
  "kernelspec": {
   "display_name": "Python 3",
   "language": "python",
   "name": "python3"
  },
  "language_info": {
   "codemirror_mode": {
    "name": "ipython",
    "version": 3
   },
   "file_extension": ".py",
   "mimetype": "text/x-python",
   "name": "python",
   "nbconvert_exporter": "python",
   "pygments_lexer": "ipython3",
   "version": "3.8.2"
  }
 },
 "nbformat": 4,
 "nbformat_minor": 4
}
