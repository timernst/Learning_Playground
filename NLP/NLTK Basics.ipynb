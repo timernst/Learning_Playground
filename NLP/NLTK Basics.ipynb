{
 "cells": [
  {
   "cell_type": "markdown",
   "metadata": {},
   "source": [
    "# NLTK Basics\n"
   ]
  },
  {
   "cell_type": "code",
   "execution_count": 2,
   "metadata": {},
   "outputs": [],
   "source": [
    "import nltk"
   ]
  },
  {
   "cell_type": "code",
   "execution_count": 20,
   "metadata": {},
   "outputs": [
    {
     "name": "stderr",
     "output_type": "stream",
     "text": [
      "[nltk_data] Downloading package punkt to\n",
      "[nltk_data]     C:\\Users\\ternst\\AppData\\Roaming\\nltk_data...\n",
      "[nltk_data]   Package punkt is already up-to-date!\n",
      "[nltk_data] Downloading package averaged_perceptron_tagger to\n",
      "[nltk_data]     C:\\Users\\ternst\\AppData\\Roaming\\nltk_data...\n",
      "[nltk_data]   Unzipping taggers\\averaged_perceptron_tagger.zip.\n"
     ]
    },
    {
     "data": {
      "text/plain": [
       "True"
      ]
     },
     "execution_count": 20,
     "metadata": {},
     "output_type": "execute_result"
    }
   ],
   "source": [
    "nltk.download('punkt')\n",
    "nltk.download('averaged_perceptron_tagger')"
   ]
  },
  {
   "cell_type": "code",
   "execution_count": 3,
   "metadata": {},
   "outputs": [],
   "source": [
    "simple_sentence = 'The quick brown fox jumped over the lazy dog.'\n",
    "article = \"\"\"Ireland against the world\n",
    "Friday kicks off a two-day summit in Venice of ministers from the Group of 20 major economies. The main agenda item: negotiating a global minimum corporate income tax. The proposed rate is 15 percent.\n",
    "\n",
    "A global minimum tax is a major threat to havens like Ireland, The Times’s Liz Alderman reports. Ireland levies a 12.5 percent corporate rate, among other breaks for multinational companies. Over 800 U.S. companies have put their European base in Ireland, which helps many avoid paying taxes in countries where they make profits. Ireland was among the holdouts, along with Barbados, Hungary and a smattering of others, to a sweeping framework agreement that recently set the stage for a global accord.\n",
    "\n",
    "The momentum has been building:\n",
    "\n",
    "This month, 130 countries signed a statement in support of making multinationals pay their fair share of taxes, after a push from leaders in the Group of 7.\n",
    "\n",
    "The pandemic is a prime driver of the overhaul, as a number of countries took big fiscal hits.\n",
    "\n",
    "Buy-in from the G20, which includes countries like China that are seen as skeptical, is not assured, and even if there is an agreement this weekend it could be difficult to ensure compliance when the details are worked out.\n",
    "\n",
    "Ireland stands to lose up to a quarter of its corporate tax haul, and at the G20 meeting it will push for terms that would allow it and other small countries to make up for the loss. Accounting and law firms, which are major beneficiaries of the global tax shifting game, are lobbying Ireland behind the scenes to hold its ground.\n",
    "\n",
    "Even inside Ireland, the will to remain a tax haven may be fading:\n",
    "\n",
    "Recent studies have identified tax havens as a major source of global inequality.\n",
    "\n",
    "In Ireland, critics say most of the gains from investment by multinationals have flowed only to those companies and their employees, not the economy as a whole.\n",
    "\n",
    "Widely reported examples of tax evasion have made being a tax haven increasingly uncomfortable. “You could legalize gun running, and that would help your economy, but that’s not really a good way forward for any nation,” said Dean Baker of the Center for Economic and Policy Research.\n",
    "\n",
    "A G20 deal would not mean the end of all tax havens. Ireland and others could still offer targeted tax cuts and income exemptions under the deal. Economists estimate that tax havens cost governments up to $600 billion a year; a global 15 percent minimum tax would bring in $150 billion.\n",
    "\n",
    "\n",
    "And given Ireland’s long history as a base for multinationals — with a broad tech industry, extensive pharma research facilities and an English-speaking work force — it could raise its tax rate and collect more income without scaring away many companies. Havens where lower taxes are the only draw may find it harder to maintain their status.\n",
    "\n",
    "\n",
    "\n",
    "Can Amazon block Lina Khan?\n",
    "Last week, Amazon fired a pre-emptive shot at the new F.T.C. chair, Lina Khan, using a common line of attack on policymakers with an opinionated past: trying to disqualify them for alleged bias.\n",
    "\n",
    "Khan made her name with a forceful view on Amazon and antitrust, arguing that the sprawling tech giant showed how competition law was “unequipped” for the digital age. This, among other things, disqualifies Khan from participating in F.T.C. actions against Amazon, the company said. Amazon is a subject of the F.T.C.’s inquiry into Big Tech’s acquisitions of smaller rivals, and the agency is separately reviewing its proposed purchase of MGM.\n",
    "\n",
    "\n",
    "So, does Amazon have a chance?\n",
    "\n",
    "Disqualifying a commissioner isn’t easy. At her Senate confirmation hearing, Khan rejected the idea of a blanket disqualification from Big Tech investigations, saying she would consider such requests on a case-by-case basis and consult with F.T.C. counsel. Simply voicing opinions critical of companies is rarely cause for recusal, and most disqualification attempts fail.\n",
    "\n",
    "Impartial “does not mean uninformed, unthinking, or inarticulate,” explained a federal appeals court in 1980, reversing the disqualification of an F.T.C. commissioner.\n",
    "\n",
    "In 2010, Intel’s attempt to disqualify a commissioner who had previously been its antitrust counsel failed because the F.T.C. said his previous work bore no “substantial relationship” to the review at issue.\n",
    "\n",
    "In 2012, a prospective commissioner who had worked for Google promised senators that he’d recuse himself from Google-related cases for two years to avoid the appearance of impropriety. That is a point Amazon stressed in its motion — that the appearance of fairness matters, too.\n",
    "\n",
    "Amazon’s filing may be “a warning shot,” said Bruce Hoffman, a partner at Cleary Gottlieb and the former director of the F.T.C.’s competition bureau. Because it isn’t attached to a case and aims to recuse Khan broadly, it essentially serves as a notice to the agency. It could be Amazon’s way of saying, “if you participate, this could haunt you,” he said.\n",
    "\n",
    "Commissioners are chosen for their policy views, as well as their expertise, so many would be disqualified if having opinions was disqualifying, said Khan’s former colleague at Columbia, the antitrust law scholar Eleanor Fox. Asked whether Amazon’s motion would succeed in blocking Khan, she replied: “Oh, I don’t think so.”\n",
    "\n",
    "\n",
    "“The crypto bros around the world have read the writing on the wall and realize Singapore Inc. is embracing the asset class.”\n",
    "— The founder of a cryptocurrency start-up on why the island nation has become the industry’s new hub.\n",
    "\n",
    "The sidelining of Sheryl Sandberg\n",
    "The partnership between Mark Zuckerberg and Sheryl Sandberg is one of the most storied in Silicon Valley. When the executives met in 2007, Sandberg was a vice president at Google with many qualities that the 23-year-old Zuckerberg lacked: polish, experience, and an interest in running aspects of a growing business that Zuckerberg found boring.\n",
    "\n",
    "In Valley-speak, Sandberg was the “adult supervision” to Zuckerberg’s founder vision, and she quickly became the archetype for this role. “Every company we work with wants ‘a Sheryl,’” said Marc Andreessen, the venture capitalist who sits on Facebook’s board.\n",
    "\n",
    "Now, more than a decade into Sandberg’s tenure as Facebook’s C.O.O., there are signs that her influence has waned, according to a forthcoming book, “An Ugly Truth: Inside Facebook’s Battle for Domination,” by Sheera Frenkel and Cecilia Kang, both reporters for The Times.\n",
    "\n",
    "In an excerpt published today, Frenkel and Kang write that Zuckerberg and Sandberg’s working relationship weakened during the Trump presidency, a period in which the company faced controversies over its role in the spread of misinformation, Russian election interference, and the Capitol riots. Zuckerberg has elevated other key executives, while Sandberg’s influence in Washington, a key part of her role at Facebook, has faded.\n",
    "\n",
    "\n",
    "Facebook is no longer led by a No. 1 and No. 2, but a No. 1 and many, insiders told the authors.\n",
    "\n",
    "Sandberg was disappointed with the 2016 election result, and her Democratic connections were less useful with Republicans in the White House. Zuckerberg, meanwhile, formed a friendly relationship with President Trump and began representing Facebook in Washington. Zuckerberg also took the lead on important content decisions. In 2019, after he made a speech defending Facebook’s stance against policing political speech, including a policy to not moderate politicians’ speech or fact-check their political ads, Sandberg said there was little she could do to change his mind, according to sources close to her.\n",
    "\n",
    "Facebook’s founder may be outsourcing less of the business to his adult supervision these days, but the public reckoning over the company’s role in society doesn’t seem to have strained its finances, even as it has strained this partnership. Last month, Facebook’s market capitalization rose above $1 trillion for the first time.\"\"\""
   ]
  },
  {
   "cell_type": "markdown",
   "metadata": {},
   "source": [
    "### Stemming\n",
    "\n",
    "This can also be made to consider parts of speech. "
   ]
  },
  {
   "cell_type": "code",
   "execution_count": 6,
   "metadata": {},
   "outputs": [
    {
     "name": "stdout",
     "output_type": "stream",
     "text": [
      "The  :  the\n",
      "quick  :  quick\n",
      "brown  :  brown\n",
      "fox  :  fox\n",
      "jumped  :  jump\n",
      "over  :  over\n",
      "the  :  the\n",
      "lazy  :  lazi\n",
      "dog  :  dog\n",
      ".  :  .\n"
     ]
    }
   ],
   "source": [
    "from nltk.stem import PorterStemmer\n",
    "from nltk.tokenize import word_tokenize\n",
    "  \n",
    "ps = PorterStemmer()\n",
    "words = word_tokenize(simple_sentence)\n",
    " \n",
    "for w in words:\n",
    "    print(w, \" : \", ps.stem(w))"
   ]
  },
  {
   "cell_type": "markdown",
   "metadata": {},
   "source": [
    "### Parts of Speech\n",
    "\n",
    "POS tag list:\n",
    "\n",
    "CC coordinating conjunction\n",
    "CD cardinal digit\n",
    "DT determiner\n",
    "EX existential there (like: \"there is\" ... think of it like \"there exists\")\n",
    "FW foreign word\n",
    "IN preposition/subordinating conjunction\n",
    "JJ adjective 'big'\n",
    "JJR adjective, comparative 'bigger'\n",
    "JJS adjective, superlative 'biggest'\n",
    "LS list marker 1)\n",
    "MD modal could, will\n",
    "NN noun, singular 'desk'\n",
    "NNS noun plural 'desks'\n",
    "NNP proper noun, singular 'Harrison'\n",
    "NNPS proper noun, plural 'Americans'\n",
    "PDT predeterminer 'all the kids'\n",
    "POS possessive ending parent's\n",
    "PRP personal pronoun I, he, she\n",
    "PRP$ possessive pronoun my, his, hers\n",
    "RB adverb very, silently,\n",
    "RBR adverb, comparative better\n",
    "RBS adverb, superlative best\n",
    "RP particle give up\n",
    "TO to go 'to' the store.\n",
    "UH interjection errrrrrrrm\n",
    "VB verb, base form take\n",
    "VBD verb, past tense took\n",
    "VBG verb, gerund/present participle taking\n",
    "VBN verb, past participle taken\n",
    "VBP verb, sing. present, non-3d take\n",
    "VBZ verb, 3rd person sing. present takes\n",
    "WDT wh-determiner which\n",
    "WP wh-pronoun who, what\n",
    "WP$ possessive wh-pronoun whose\n",
    "WRB wh-abverb where, when"
   ]
  },
  {
   "cell_type": "code",
   "execution_count": 22,
   "metadata": {},
   "outputs": [
    {
     "data": {
      "text/plain": [
       "[('The', 'DT'),\n",
       " ('quick', 'JJ'),\n",
       " ('brown', 'NN'),\n",
       " ('fox', 'NN'),\n",
       " ('jumped', 'VBD'),\n",
       " ('over', 'IN'),\n",
       " ('the', 'DT'),\n",
       " ('lazy', 'JJ'),\n",
       " ('dog', 'NN'),\n",
       " ('.', '.')]"
      ]
     },
     "execution_count": 22,
     "metadata": {},
     "output_type": "execute_result"
    }
   ],
   "source": [
    "text = nltk.word_tokenize(simple_sentence)\n",
    "nltk.pos_tag(text)"
   ]
  },
  {
   "cell_type": "markdown",
   "metadata": {},
   "source": [
    "### Distance Measurements"
   ]
  },
  {
   "cell_type": "code",
   "execution_count": 24,
   "metadata": {},
   "outputs": [
    {
     "name": "stdout",
     "output_type": "stream",
     "text": [
      "Similar words: 0.14285714285714285\n",
      "Dissimliar words: 1.0\n"
     ]
    }
   ],
   "source": [
    "w1 = set('mapping')\n",
    "w2 = set('mappings')\n",
    " \n",
    "print(\"Similar words:\", nltk.jaccard_distance(w1, w2))\n",
    "\n",
    "w1 = set('mapping')\n",
    "w2 = set('fox')\n",
    " \n",
    "print(\"Dissimliar words:\", nltk.jaccard_distance(w1, w2))"
   ]
  },
  {
   "cell_type": "code",
   "execution_count": 18,
   "metadata": {},
   "outputs": [
    {
     "data": {
      "text/plain": [
       "{'listing': 0.16666666666666666,\n",
       " 'lighting': 0.16666666666666666,\n",
       " 'linking': 0.3333333333333333,\n",
       " 'living': 0.3333333333333333,\n",
       " 'walking': 0.5,\n",
       " 'drawing': 0.6666666666666666,\n",
       " 'orange': 0.7777777777777778,\n",
       " 'bag': 0.8571428571428571,\n",
       " 'apple': 0.875,\n",
       " 'zoo': 1.0}"
      ]
     },
     "execution_count": 18,
     "metadata": {},
     "output_type": "execute_result"
    }
   ],
   "source": [
    "\n",
    "mistake = \"ligting\"\n",
    " \n",
    "words = ['apple', 'bag', 'drawing', 'listing', 'linking', 'living', 'lighting', 'orange', 'walking', 'zoo']\n",
    "\n",
    "results = {} \n",
    "for word in words:\n",
    "    jd = nltk.jaccard_distance(set(mistake), set(word))\n",
    "    results[word] = jd\n",
    "\n",
    "{k: v for k, v in sorted(results.items(), key=lambda item: item[1])}"
   ]
  },
  {
   "cell_type": "code",
   "execution_count": null,
   "metadata": {},
   "outputs": [],
   "source": []
  }
 ],
 "metadata": {
  "kernelspec": {
   "display_name": "Python 3",
   "language": "python",
   "name": "python3"
  },
  "language_info": {
   "codemirror_mode": {
    "name": "ipython",
    "version": 3
   },
   "file_extension": ".py",
   "mimetype": "text/x-python",
   "name": "python",
   "nbconvert_exporter": "python",
   "pygments_lexer": "ipython3",
   "version": "3.8.5"
  }
 },
 "nbformat": 4,
 "nbformat_minor": 4
}
