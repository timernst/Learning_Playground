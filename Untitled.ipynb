{
 "cells": [
  {
   "cell_type": "code",
   "execution_count": null,
   "metadata": {},
   "outputs": [],
   "source": [
    "alue of A\n",
    "\tValue of B\n",
    "\tValue of C\n",
    "\t(A and B) or C\n",
    "\tA and B and not C\n",
    "\tnot C or (A and not B)\n",
    "True\n",
    "\tTrue\tTrue\tTrue\t[1]\n",
    "\t[2]\n",
    "True\tTrue\tFalse\t[3]\t[4]\t[5]\n",
    "True\n",
    "\tFalse\tTrue\tTrue\tFalse\tTrue\n",
    "True\n",
    "\tFalse\tFalse\t[6]\n",
    "\tFalse\tTrue\n",
    "False\tTrue\t[9]\n",
    "\tTrue\tFalse\n",
    "\tFalse\n",
    "False\tTrue\t[10]\tFalse\tFalse\tTrue\n",
    "False\tFalse\tTrue\tTrue\t[7]\tFalse\n",
    "False\tFalse\tFalse\tFalse\tFalse\t[8]"
   ]
  },
  {
   "cell_type": "code",
   "execution_count": 11,
   "metadata": {},
   "outputs": [],
   "source": [
    "A = False\n",
    "B = False\n",
    "C = False"
   ]
  },
  {
   "cell_type": "code",
   "execution_count": 12,
   "metadata": {},
   "outputs": [
    {
     "name": "stdout",
     "output_type": "stream",
     "text": [
      "False\n",
      "False\n",
      "True\n"
     ]
    }
   ],
   "source": [
    "\n",
    "\n",
    "\n",
    "col1 = (A and B) or C\n",
    "col2 = A and B and not C\n",
    "col3 = not C or (A and not B)\n",
    "\n",
    "print(col1)\n",
    "print(col2)\n",
    "print(col3)"
   ]
  },
  {
   "cell_type": "code",
   "execution_count": null,
   "metadata": {},
   "outputs": [],
   "source": []
  }
 ],
 "metadata": {
  "kernelspec": {
   "display_name": "Python 3",
   "language": "python",
   "name": "python3"
  },
  "language_info": {
   "codemirror_mode": {
    "name": "ipython",
    "version": 3
   },
   "file_extension": ".py",
   "mimetype": "text/x-python",
   "name": "python",
   "nbconvert_exporter": "python",
   "pygments_lexer": "ipython3",
   "version": "3.8.1"
  }
 },
 "nbformat": 4,
 "nbformat_minor": 4
}
